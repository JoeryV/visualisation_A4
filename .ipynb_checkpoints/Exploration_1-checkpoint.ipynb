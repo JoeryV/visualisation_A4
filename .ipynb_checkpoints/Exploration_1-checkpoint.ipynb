{
 "cells": [
  {
   "cell_type": "code",
   "execution_count": 1,
   "metadata": {},
   "outputs": [],
   "source": [
    "import numpy as np\n",
    "import pandas as pd"
   ]
  },
  {
   "cell_type": "code",
   "execution_count": 2,
   "metadata": {
    "scrolled": true
   },
   "outputs": [],
   "source": [
    "df = pd.read_excel('../Data/Top 2000 cleaned.xlsx')"
   ]
  },
  {
   "cell_type": "code",
   "execution_count": 3,
   "metadata": {},
   "outputs": [
    {
     "data": {
      "text/html": [
       "<div>\n",
       "<style scoped>\n",
       "    .dataframe tbody tr th:only-of-type {\n",
       "        vertical-align: middle;\n",
       "    }\n",
       "\n",
       "    .dataframe tbody tr th {\n",
       "        vertical-align: top;\n",
       "    }\n",
       "\n",
       "    .dataframe thead th {\n",
       "        text-align: right;\n",
       "    }\n",
       "</style>\n",
       "<table border=\"1\" class=\"dataframe\">\n",
       "  <thead>\n",
       "    <tr style=\"text-align: right;\">\n",
       "      <th></th>\n",
       "      <th>Artist</th>\n",
       "      <th>Title</th>\n",
       "      <th>Year</th>\n",
       "      <th>Highest position</th>\n",
       "      <th>1999</th>\n",
       "      <th>2000</th>\n",
       "      <th>2001</th>\n",
       "      <th>2002</th>\n",
       "      <th>2003</th>\n",
       "      <th>2004</th>\n",
       "      <th>...</th>\n",
       "      <th>2009</th>\n",
       "      <th>2010</th>\n",
       "      <th>2011</th>\n",
       "      <th>2012</th>\n",
       "      <th>2013</th>\n",
       "      <th>2014</th>\n",
       "      <th>2015</th>\n",
       "      <th>2016</th>\n",
       "      <th>2017</th>\n",
       "      <th>2018</th>\n",
       "    </tr>\n",
       "  </thead>\n",
       "  <tbody>\n",
       "    <tr>\n",
       "      <th>4427</th>\n",
       "      <td>ZZ &amp; De Maskers</td>\n",
       "      <td>Ik heb genoeg van jou</td>\n",
       "      <td>1965</td>\n",
       "      <td>1102</td>\n",
       "      <td>1241</td>\n",
       "      <td>0</td>\n",
       "      <td>1393</td>\n",
       "      <td>1546</td>\n",
       "      <td>1242</td>\n",
       "      <td>1231</td>\n",
       "      <td>...</td>\n",
       "      <td>0</td>\n",
       "      <td>0</td>\n",
       "      <td>0</td>\n",
       "      <td>0</td>\n",
       "      <td>0</td>\n",
       "      <td>0</td>\n",
       "      <td>0</td>\n",
       "      <td>0</td>\n",
       "      <td>0</td>\n",
       "      <td>0</td>\n",
       "    </tr>\n",
       "    <tr>\n",
       "      <th>4428</th>\n",
       "      <td>ZZ &amp; De Maskers</td>\n",
       "      <td>La comparsa</td>\n",
       "      <td>1964</td>\n",
       "      <td>525</td>\n",
       "      <td>0</td>\n",
       "      <td>631</td>\n",
       "      <td>708</td>\n",
       "      <td>854</td>\n",
       "      <td>525</td>\n",
       "      <td>572</td>\n",
       "      <td>...</td>\n",
       "      <td>0</td>\n",
       "      <td>1146</td>\n",
       "      <td>1339</td>\n",
       "      <td>1666</td>\n",
       "      <td>1757</td>\n",
       "      <td>1340</td>\n",
       "      <td>1437</td>\n",
       "      <td>0</td>\n",
       "      <td>0</td>\n",
       "      <td>0</td>\n",
       "    </tr>\n",
       "    <tr>\n",
       "      <th>4429</th>\n",
       "      <td>ZZ Top</td>\n",
       "      <td>Legs</td>\n",
       "      <td>1985</td>\n",
       "      <td>1412</td>\n",
       "      <td>0</td>\n",
       "      <td>0</td>\n",
       "      <td>0</td>\n",
       "      <td>0</td>\n",
       "      <td>0</td>\n",
       "      <td>0</td>\n",
       "      <td>...</td>\n",
       "      <td>1416</td>\n",
       "      <td>0</td>\n",
       "      <td>1412</td>\n",
       "      <td>1474</td>\n",
       "      <td>1587</td>\n",
       "      <td>1412</td>\n",
       "      <td>1733</td>\n",
       "      <td>1920</td>\n",
       "      <td>0</td>\n",
       "      <td>0</td>\n",
       "    </tr>\n",
       "  </tbody>\n",
       "</table>\n",
       "<p>3 rows × 24 columns</p>\n",
       "</div>"
      ],
      "text/plain": [
       "               Artist                  Title  Year  Highest position  1999  \\\n",
       "4427  ZZ & De Maskers  Ik heb genoeg van jou  1965              1102  1241   \n",
       "4428  ZZ & De Maskers            La comparsa  1964               525     0   \n",
       "4429           ZZ Top                   Legs  1985              1412     0   \n",
       "\n",
       "      2000  2001  2002  2003  2004  ...   2009  2010  2011  2012  2013  2014  \\\n",
       "4427     0  1393  1546  1242  1231  ...      0     0     0     0     0     0   \n",
       "4428   631   708   854   525   572  ...      0  1146  1339  1666  1757  1340   \n",
       "4429     0     0     0     0     0  ...   1416     0  1412  1474  1587  1412   \n",
       "\n",
       "      2015  2016  2017  2018  \n",
       "4427     0     0     0     0  \n",
       "4428  1437     0     0     0  \n",
       "4429  1733  1920     0     0  \n",
       "\n",
       "[3 rows x 24 columns]"
      ]
     },
     "execution_count": 3,
     "metadata": {},
     "output_type": "execute_result"
    }
   ],
   "source": [
    "df.tail(3)"
   ]
  },
  {
   "cell_type": "code",
   "execution_count": 4,
   "metadata": {
    "scrolled": true
   },
   "outputs": [
    {
     "data": {
      "text/plain": [
       "20"
      ]
     },
     "execution_count": 4,
     "metadata": {},
     "output_type": "execute_result"
    }
   ],
   "source": [
    "df.iloc[0, 4:].count()"
   ]
  },
  {
   "cell_type": "code",
   "execution_count": 5,
   "metadata": {
    "scrolled": true
   },
   "outputs": [],
   "source": [
    "# All the years contain exactly 2000 records\n",
    "for top_year in df.columns[4:]:\n",
    "    if (df[top_year] != 0).sum() != 2000:\n",
    "        print('something wrong with year {}'.format(year))"
   ]
  },
  {
   "cell_type": "code",
   "execution_count": 6,
   "metadata": {
    "scrolled": true
   },
   "outputs": [
    {
     "data": {
      "text/plain": [
       "Crazy                5\n",
       "The power of love    4\n",
       "Hallelujah           4\n",
       "Name: Title, dtype: int64"
      ]
     },
     "execution_count": 6,
     "metadata": {},
     "output_type": "execute_result"
    }
   ],
   "source": [
    "# Titles are not unique\n",
    "df['Title'].value_counts().head(3)"
   ]
  },
  {
   "cell_type": "code",
   "execution_count": 7,
   "metadata": {
    "scrolled": true
   },
   "outputs": [
    {
     "data": {
      "text/plain": [
       "1967    138\n",
       "1977    134\n",
       "1969    129\n",
       "Name: Year, dtype: int64"
      ]
     },
     "execution_count": 7,
     "metadata": {},
     "output_type": "execute_result"
    }
   ],
   "source": [
    "# Songs from certain years might be more popular than others\n",
    "df['Year'].value_counts().head(3)"
   ]
  },
  {
   "cell_type": "code",
   "execution_count": 8,
   "metadata": {},
   "outputs": [
    {
     "data": {
      "text/plain": [
       "The Beatles           59\n",
       "The Rolling Stones    46\n",
       "Queen                 33\n",
       "Name: Artist, dtype: int64"
      ]
     },
     "execution_count": 8,
     "metadata": {},
     "output_type": "execute_result"
    }
   ],
   "source": [
    "# Songs from certain artists might be more popular than others\n",
    "df['Artist'].value_counts().head(3)"
   ]
  },
  {
   "cell_type": "code",
   "execution_count": 9,
   "metadata": {
    "scrolled": true
   },
   "outputs": [
    {
     "data": {
      "text/plain": [
       "901"
      ]
     },
     "execution_count": 9,
     "metadata": {},
     "output_type": "execute_result"
    }
   ],
   "source": [
    "# the number of songs which, per definition, could not have been in the list all of the times\n",
    "(df['Year'] > 1999).sum()"
   ]
  },
  {
   "cell_type": "code",
   "execution_count": 10,
   "metadata": {
    "scrolled": true
   },
   "outputs": [],
   "source": [
    "df['nr_times_in_list'] = df.iloc[:, 4:].astype(bool).sum(axis=1)"
   ]
  },
  {
   "cell_type": "code",
   "execution_count": 11,
   "metadata": {
    "scrolled": true
   },
   "outputs": [],
   "source": [
    "# Not sure whether it's sensical to take the mean of the ranking\n",
    "def mean_place(row):\n",
    "    '''Function returns the mean of the ranking of the song, \n",
    "    taking into account its release year'''\n",
    "    \n",
    "    year_produced = row['Year']\n",
    "    \n",
    "    if year_produced > 1999:\n",
    "        result = row[str(year_produced):'2018'].mean()\n",
    "    else:\n",
    "        result = row['1999':'2018'].mean()\n",
    "        \n",
    "    return round(result, 1)\n",
    "    \n",
    "    \n",
    "df['song_mean_ranking'] = df.apply(mean_place, axis=1)"
   ]
  },
  {
   "cell_type": "code",
   "execution_count": 12,
   "metadata": {
    "scrolled": true
   },
   "outputs": [
    {
     "data": {
      "text/html": [
       "<div>\n",
       "<style scoped>\n",
       "    .dataframe tbody tr th:only-of-type {\n",
       "        vertical-align: middle;\n",
       "    }\n",
       "\n",
       "    .dataframe tbody tr th {\n",
       "        vertical-align: top;\n",
       "    }\n",
       "\n",
       "    .dataframe thead th {\n",
       "        text-align: right;\n",
       "    }\n",
       "</style>\n",
       "<table border=\"1\" class=\"dataframe\">\n",
       "  <thead>\n",
       "    <tr style=\"text-align: right;\">\n",
       "      <th></th>\n",
       "      <th>Artist</th>\n",
       "      <th>Title</th>\n",
       "      <th>Year</th>\n",
       "      <th>Highest position</th>\n",
       "      <th>1999</th>\n",
       "      <th>2000</th>\n",
       "      <th>2001</th>\n",
       "      <th>2002</th>\n",
       "      <th>2003</th>\n",
       "      <th>2004</th>\n",
       "      <th>...</th>\n",
       "      <th>2011</th>\n",
       "      <th>2012</th>\n",
       "      <th>2013</th>\n",
       "      <th>2014</th>\n",
       "      <th>2015</th>\n",
       "      <th>2016</th>\n",
       "      <th>2017</th>\n",
       "      <th>2018</th>\n",
       "      <th>nr_times_in_list</th>\n",
       "      <th>song_mean_ranking</th>\n",
       "    </tr>\n",
       "  </thead>\n",
       "  <tbody>\n",
       "    <tr>\n",
       "      <th>0</th>\n",
       "      <td>Queen</td>\n",
       "      <td>Bohemian Rhapsody</td>\n",
       "      <td>1975</td>\n",
       "      <td>1</td>\n",
       "      <td>1</td>\n",
       "      <td>1</td>\n",
       "      <td>1</td>\n",
       "      <td>1</td>\n",
       "      <td>1</td>\n",
       "      <td>1</td>\n",
       "      <td>...</td>\n",
       "      <td>1</td>\n",
       "      <td>1</td>\n",
       "      <td>1</td>\n",
       "      <td>2</td>\n",
       "      <td>2</td>\n",
       "      <td>1</td>\n",
       "      <td>1</td>\n",
       "      <td>1</td>\n",
       "      <td>20</td>\n",
       "      <td>1.2</td>\n",
       "    </tr>\n",
       "    <tr>\n",
       "      <th>1</th>\n",
       "      <td>Eagles</td>\n",
       "      <td>Hotel California</td>\n",
       "      <td>1977</td>\n",
       "      <td>1</td>\n",
       "      <td>2</td>\n",
       "      <td>4</td>\n",
       "      <td>3</td>\n",
       "      <td>3</td>\n",
       "      <td>2</td>\n",
       "      <td>2</td>\n",
       "      <td>...</td>\n",
       "      <td>2</td>\n",
       "      <td>2</td>\n",
       "      <td>2</td>\n",
       "      <td>1</td>\n",
       "      <td>3</td>\n",
       "      <td>2</td>\n",
       "      <td>2</td>\n",
       "      <td>2</td>\n",
       "      <td>20</td>\n",
       "      <td>2.3</td>\n",
       "    </tr>\n",
       "    <tr>\n",
       "      <th>2</th>\n",
       "      <td>Billy Joel</td>\n",
       "      <td>Piano man</td>\n",
       "      <td>1974</td>\n",
       "      <td>3</td>\n",
       "      <td>121</td>\n",
       "      <td>83</td>\n",
       "      <td>57</td>\n",
       "      <td>58</td>\n",
       "      <td>60</td>\n",
       "      <td>66</td>\n",
       "      <td>...</td>\n",
       "      <td>29</td>\n",
       "      <td>36</td>\n",
       "      <td>18</td>\n",
       "      <td>7</td>\n",
       "      <td>6</td>\n",
       "      <td>4</td>\n",
       "      <td>4</td>\n",
       "      <td>3</td>\n",
       "      <td>20</td>\n",
       "      <td>41.4</td>\n",
       "    </tr>\n",
       "    <tr>\n",
       "      <th>3</th>\n",
       "      <td>Led Zeppelin</td>\n",
       "      <td>Stairway to heaven</td>\n",
       "      <td>1971</td>\n",
       "      <td>3</td>\n",
       "      <td>4</td>\n",
       "      <td>3</td>\n",
       "      <td>4</td>\n",
       "      <td>4</td>\n",
       "      <td>4</td>\n",
       "      <td>4</td>\n",
       "      <td>...</td>\n",
       "      <td>5</td>\n",
       "      <td>3</td>\n",
       "      <td>3</td>\n",
       "      <td>3</td>\n",
       "      <td>5</td>\n",
       "      <td>3</td>\n",
       "      <td>3</td>\n",
       "      <td>4</td>\n",
       "      <td>20</td>\n",
       "      <td>4.0</td>\n",
       "    </tr>\n",
       "  </tbody>\n",
       "</table>\n",
       "<p>4 rows × 26 columns</p>\n",
       "</div>"
      ],
      "text/plain": [
       "         Artist               Title  Year  Highest position  1999  2000  2001  \\\n",
       "0         Queen   Bohemian Rhapsody  1975                 1     1     1     1   \n",
       "1        Eagles    Hotel California  1977                 1     2     4     3   \n",
       "2    Billy Joel           Piano man  1974                 3   121    83    57   \n",
       "3  Led Zeppelin  Stairway to heaven  1971                 3     4     3     4   \n",
       "\n",
       "   2002  2003  2004        ...          2011  2012  2013  2014  2015  2016  \\\n",
       "0     1     1     1        ...             1     1     1     2     2     1   \n",
       "1     3     2     2        ...             2     2     2     1     3     2   \n",
       "2    58    60    66        ...            29    36    18     7     6     4   \n",
       "3     4     4     4        ...             5     3     3     3     5     3   \n",
       "\n",
       "   2017  2018  nr_times_in_list  song_mean_ranking  \n",
       "0     1     1                20                1.2  \n",
       "1     2     2                20                2.3  \n",
       "2     4     3                20               41.4  \n",
       "3     3     4                20                4.0  \n",
       "\n",
       "[4 rows x 26 columns]"
      ]
     },
     "execution_count": 12,
     "metadata": {},
     "output_type": "execute_result"
    }
   ],
   "source": [
    "df.head(4)"
   ]
  },
  {
   "cell_type": "code",
   "execution_count": null,
   "metadata": {},
   "outputs": [],
   "source": []
  }
 ],
 "metadata": {
  "kernelspec": {
   "display_name": "Python 3",
   "language": "python",
   "name": "python3"
  },
  "language_info": {
   "codemirror_mode": {
    "name": "ipython",
    "version": 3
   },
   "file_extension": ".py",
   "mimetype": "text/x-python",
   "name": "python",
   "nbconvert_exporter": "python",
   "pygments_lexer": "ipython3",
   "version": "3.6.5"
  },
  "toc": {
   "base_numbering": 1,
   "nav_menu": {},
   "number_sections": true,
   "sideBar": true,
   "skip_h1_title": false,
   "title_cell": "Table of Contents",
   "title_sidebar": "Contents",
   "toc_cell": false,
   "toc_position": {},
   "toc_section_display": true,
   "toc_window_display": false
  }
 },
 "nbformat": 4,
 "nbformat_minor": 2
}
